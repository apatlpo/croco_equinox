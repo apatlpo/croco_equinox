{
 "cells": [
  {
   "cell_type": "markdown",
   "metadata": {},
   "source": [
    "# convert data to zarr format"
   ]
  },
  {
   "cell_type": "code",
   "execution_count": 7,
   "metadata": {},
   "outputs": [],
   "source": [
    "import itertools\n",
    "\n",
    "%matplotlib inline\n",
    "from matplotlib import pyplot as plt\n",
    "\n",
    "import crocosi.postp as pp"
   ]
  },
  {
   "cell_type": "code",
   "execution_count": 2,
   "metadata": {},
   "outputs": [],
   "source": [
    "from dask.distributed import Client, LocalCluster\n",
    "#\n",
    "#cluster = LocalCluster()\n",
    "#\n",
    "from dask_jobqueue import PBSCluster\n",
    "# get processes with large amount of memory\n",
    "cluster = PBSCluster(processes=8, cores=16,\n",
    "                     walltime='04:00:00')\n",
    "w = cluster.scale(jobs=5)\n",
    "#\n",
    "client = Client(cluster)"
   ]
  },
  {
   "cell_type": "code",
   "execution_count": 3,
   "metadata": {},
   "outputs": [
    {
     "data": {
      "text/html": [
       "<table style=\"border: 2px solid white;\">\n",
       "<tr>\n",
       "<td style=\"vertical-align: top; border: 0px solid white\">\n",
       "<h3 style=\"text-align: left;\">Client</h3>\n",
       "<ul style=\"text-align: left; list-style: none; margin: 0; padding: 0;\">\n",
       "  <li><b>Scheduler: </b>tcp://10.148.1.103:40400</li>\n",
       "  <li><b>Dashboard: </b><a href='http://10.148.1.103:8787/status' target='_blank'>http://10.148.1.103:8787/status</a>\n",
       "</ul>\n",
       "</td>\n",
       "<td style=\"vertical-align: top; border: 0px solid white\">\n",
       "<h3 style=\"text-align: left;\">Cluster</h3>\n",
       "<ul style=\"text-align: left; list-style:none; margin: 0; padding: 0;\">\n",
       "  <li><b>Workers: </b>0</li>\n",
       "  <li><b>Cores: </b>0</li>\n",
       "  <li><b>Memory: </b>0 B</li>\n",
       "</ul>\n",
       "</td>\n",
       "</tr>\n",
       "</table>"
      ],
      "text/plain": [
       "<Client: 'tcp://10.148.1.103:40400' processes=0 threads=0, memory=0 B>"
      ]
     },
     "execution_count": 3,
     "metadata": {},
     "output_type": "execute_result"
    }
   ],
   "source": [
    "client"
   ]
  },
  {
   "cell_type": "markdown",
   "metadata": {},
   "source": [
    "---\n",
    "\n",
    "## load data"
   ]
  },
  {
   "cell_type": "code",
   "execution_count": 17,
   "metadata": {},
   "outputs": [],
   "source": [
    "root_path = '/home/c11-data/Test_aponte/fsturb/'\n",
    "\n",
    "M = [0,1]\n",
    "A = list(range(4))\n",
    "\n",
    "runs = ['fsturb_m{}_a{}_4km_0a300j'.format(m,a) for m, a in itertools.product(M, A)]"
   ]
  },
  {
   "cell_type": "code",
   "execution_count": 20,
   "metadata": {},
   "outputs": [
    {
     "name": "stdout",
     "output_type": "stream",
     "text": [
      "Analysing directory /home/c11-data/Test_aponte/fsturb/fsturb_m0_a0_4km_0a300j\n",
      "Found 3 segments\n",
      "Parameters detected in croco.in :\n",
      "  time step = 300.0 s\n",
      "Parameters detected in output.mpi :\n",
      "Opening datasets: grid / his / inst / surf / fsturb\n",
      "Grid size: (L ,M, N) = (258, 722, 50)\n",
      "- grid stored\n",
      "  location: /home/c11-data/Test_aponte/fsturb/fsturb_m0_a0_4km_0a300j/zarr/grid.zarr \n",
      "  size:     0.0 GB\n",
      "  typical chunks: (722,258) for size (722,258)\n",
      "- his stored\n",
      "  location: /home/c11-data/Test_aponte/fsturb/fsturb_m0_a0_4km_0a300j/zarr/his.zarr \n",
      "  size:     8.2 GB\n",
      "  typical chunks: (2,50,722,258) for size (15,50,722,258)\n",
      "- inst stored\n",
      "  location: /home/c11-data/Test_aponte/fsturb/fsturb_m0_a0_4km_0a300j/zarr/inst.zarr \n",
      "  size:     0.0 GB\n",
      "  typical chunks: (300,722) for size (300,722)\n",
      "- surf stored\n",
      "  location: /home/c11-data/Test_aponte/fsturb/fsturb_m0_a0_4km_0a300j/zarr/surf.zarr \n",
      "  size:     0.8 GB\n",
      "  typical chunks: (100,722,258) for size (300,722,258)\n",
      "- fsturb stored\n",
      "  location: /home/c11-data/Test_aponte/fsturb/fsturb_m0_a0_4km_0a300j/zarr/fsturb.zarr \n",
      "  size:     3.2 GB\n",
      "  typical chunks: (20,50,722,258) for size (60,50,722,258)\n",
      "CPU times: user 11.6 s, sys: 972 ms, total: 12.6 s\n",
      "Wall time: 3min 5s\n",
      "Analysing directory /home/c11-data/Test_aponte/fsturb/fsturb_m0_a1_4km_0a300j\n",
      "Found 3 segments\n",
      "Parameters detected in croco.in :\n",
      "  time step = 300.0 s\n",
      "Parameters detected in output.mpi :\n",
      "Opening datasets: grid / his / inst / surf / fsturb\n",
      "Grid size: (L ,M, N) = (258, 722, 50)\n",
      "- grid stored\n",
      "  location: /home/c11-data/Test_aponte/fsturb/fsturb_m0_a1_4km_0a300j/zarr/grid.zarr \n",
      "  size:     0.0 GB\n",
      "  typical chunks: (722,258) for size (722,258)\n",
      "- his stored\n",
      "  location: /home/c11-data/Test_aponte/fsturb/fsturb_m0_a1_4km_0a300j/zarr/his.zarr \n",
      "  size:     7.3 GB\n",
      "  typical chunks: (2,50,722,258) for size (15,50,722,258)\n",
      "- inst stored\n",
      "  location: /home/c11-data/Test_aponte/fsturb/fsturb_m0_a1_4km_0a300j/zarr/inst.zarr \n",
      "  size:     0.0 GB\n",
      "  typical chunks: (300,722) for size (300,722)\n",
      "- surf stored\n",
      "  location: /home/c11-data/Test_aponte/fsturb/fsturb_m0_a1_4km_0a300j/zarr/surf.zarr \n",
      "  size:     0.8 GB\n",
      "  typical chunks: (100,722,258) for size (300,722,258)\n",
      "- fsturb stored\n",
      "  location: /home/c11-data/Test_aponte/fsturb/fsturb_m0_a1_4km_0a300j/zarr/fsturb.zarr \n",
      "  size:     3.2 GB\n",
      "  typical chunks: (20,50,722,258) for size (60,50,722,258)\n",
      "CPU times: user 10.3 s, sys: 752 ms, total: 11 s\n",
      "Wall time: 2min 26s\n",
      "Analysing directory /home/c11-data/Test_aponte/fsturb/fsturb_m0_a2_4km_0a300j\n",
      "Found 3 segments\n",
      "Parameters detected in croco.in :\n",
      "  time step = 300.0 s\n",
      "Parameters detected in output.mpi :\n",
      "Opening datasets: grid / his / inst / surf / fsturb\n",
      "Grid size: (L ,M, N) = (258, 722, 50)\n",
      "- grid stored\n",
      "  location: /home/c11-data/Test_aponte/fsturb/fsturb_m0_a2_4km_0a300j/zarr/grid.zarr \n",
      "  size:     0.0 GB\n",
      "  typical chunks: (722,258) for size (722,258)\n",
      "- his stored\n",
      "  location: /home/c11-data/Test_aponte/fsturb/fsturb_m0_a2_4km_0a300j/zarr/his.zarr \n",
      "  size:     7.3 GB\n",
      "  typical chunks: (2,50,722,258) for size (15,50,722,258)\n",
      "- inst stored\n",
      "  location: /home/c11-data/Test_aponte/fsturb/fsturb_m0_a2_4km_0a300j/zarr/inst.zarr \n",
      "  size:     0.0 GB\n",
      "  typical chunks: (300,722) for size (300,722)\n",
      "- surf stored\n",
      "  location: /home/c11-data/Test_aponte/fsturb/fsturb_m0_a2_4km_0a300j/zarr/surf.zarr \n",
      "  size:     0.8 GB\n",
      "  typical chunks: (100,722,258) for size (300,722,258)\n",
      "- fsturb stored\n",
      "  location: /home/c11-data/Test_aponte/fsturb/fsturb_m0_a2_4km_0a300j/zarr/fsturb.zarr \n",
      "  size:     3.3 GB\n",
      "  typical chunks: (20,50,722,258) for size (60,50,722,258)\n",
      "CPU times: user 10.4 s, sys: 784 ms, total: 11.2 s\n",
      "Wall time: 2min 28s\n",
      "Analysing directory /home/c11-data/Test_aponte/fsturb/fsturb_m0_a3_4km_0a300j\n",
      "Found 3 segments\n",
      "Parameters detected in croco.in :\n",
      "  time step = 300.0 s\n",
      "Parameters detected in output.mpi :\n",
      "Opening datasets: grid / his / inst / surf / fsturb\n",
      "Grid size: (L ,M, N) = (258, 722, 50)\n",
      "- grid stored\n",
      "  location: /home/c11-data/Test_aponte/fsturb/fsturb_m0_a3_4km_0a300j/zarr/grid.zarr \n",
      "  size:     0.0 GB\n",
      "  typical chunks: (722,258) for size (722,258)\n",
      "- his stored\n",
      "  location: /home/c11-data/Test_aponte/fsturb/fsturb_m0_a3_4km_0a300j/zarr/his.zarr \n",
      "  size:     7.4 GB\n",
      "  typical chunks: (2,50,722,258) for size (15,50,722,258)\n",
      "- inst stored\n",
      "  location: /home/c11-data/Test_aponte/fsturb/fsturb_m0_a3_4km_0a300j/zarr/inst.zarr \n",
      "  size:     0.0 GB\n",
      "  typical chunks: (300,722) for size (300,722)\n",
      "- surf stored\n",
      "  location: /home/c11-data/Test_aponte/fsturb/fsturb_m0_a3_4km_0a300j/zarr/surf.zarr \n",
      "  size:     0.9 GB\n",
      "  typical chunks: (100,722,258) for size (300,722,258)\n",
      "- fsturb stored\n",
      "  location: /home/c11-data/Test_aponte/fsturb/fsturb_m0_a3_4km_0a300j/zarr/fsturb.zarr \n",
      "  size:     3.3 GB\n",
      "  typical chunks: (20,50,722,258) for size (60,50,722,258)\n",
      "CPU times: user 10.9 s, sys: 864 ms, total: 11.7 s\n",
      "Wall time: 2min 39s\n",
      "Analysing directory /home/c11-data/Test_aponte/fsturb/fsturb_m1_a0_4km_0a300j\n",
      "Found 3 segments\n",
      "Parameters detected in croco.in :\n",
      "  time step = 300.0 s\n",
      "Parameters detected in output.mpi :\n",
      "Opening datasets: grid / his / inst / surf / fsturb\n",
      "Grid size: (L ,M, N) = (258, 722, 50)\n",
      "- grid stored\n",
      "  location: /home/c11-data/Test_aponte/fsturb/fsturb_m1_a0_4km_0a300j/zarr/grid.zarr \n",
      "  size:     0.0 GB\n",
      "  typical chunks: (722,258) for size (722,258)\n",
      "- his stored\n",
      "  location: /home/c11-data/Test_aponte/fsturb/fsturb_m1_a0_4km_0a300j/zarr/his.zarr \n",
      "  size:     7.4 GB\n",
      "  typical chunks: (2,50,722,258) for size (15,50,722,258)\n",
      "- inst stored\n",
      "  location: /home/c11-data/Test_aponte/fsturb/fsturb_m1_a0_4km_0a300j/zarr/inst.zarr \n",
      "  size:     0.0 GB\n",
      "  typical chunks: (300,722) for size (300,722)\n",
      "- surf stored\n",
      "  location: /home/c11-data/Test_aponte/fsturb/fsturb_m1_a0_4km_0a300j/zarr/surf.zarr \n",
      "  size:     0.9 GB\n",
      "  typical chunks: (100,722,258) for size (300,722,258)\n",
      "- fsturb stored\n",
      "  location: /home/c11-data/Test_aponte/fsturb/fsturb_m1_a0_4km_0a300j/zarr/fsturb.zarr \n",
      "  size:     3.3 GB\n",
      "  typical chunks: (20,50,722,258) for size (60,50,722,258)\n",
      "CPU times: user 10.8 s, sys: 844 ms, total: 11.7 s\n",
      "Wall time: 2min 40s\n",
      "Analysing directory /home/c11-data/Test_aponte/fsturb/fsturb_m1_a1_4km_0a300j\n",
      "Found 3 segments\n",
      "Parameters detected in croco.in :\n",
      "  time step = 300.0 s\n",
      "Parameters detected in output.mpi :\n",
      "Opening datasets: grid / his / inst / surf / fsturb\n",
      "Grid size: (L ,M, N) = (258, 722, 50)\n",
      "- grid stored\n",
      "  location: /home/c11-data/Test_aponte/fsturb/fsturb_m1_a1_4km_0a300j/zarr/grid.zarr \n",
      "  size:     0.0 GB\n",
      "  typical chunks: (722,258) for size (722,258)\n",
      "- his stored\n",
      "  location: /home/c11-data/Test_aponte/fsturb/fsturb_m1_a1_4km_0a300j/zarr/his.zarr \n",
      "  size:     7.5 GB\n",
      "  typical chunks: (2,50,722,258) for size (15,50,722,258)\n",
      "- inst stored\n",
      "  location: /home/c11-data/Test_aponte/fsturb/fsturb_m1_a1_4km_0a300j/zarr/inst.zarr \n",
      "  size:     0.0 GB\n",
      "  typical chunks: (300,722) for size (300,722)\n",
      "- surf stored\n",
      "  location: /home/c11-data/Test_aponte/fsturb/fsturb_m1_a1_4km_0a300j/zarr/surf.zarr \n",
      "  size:     0.9 GB\n",
      "  typical chunks: (100,722,258) for size (300,722,258)\n",
      "- fsturb stored\n",
      "  location: /home/c11-data/Test_aponte/fsturb/fsturb_m1_a1_4km_0a300j/zarr/fsturb.zarr \n",
      "  size:     3.2 GB\n",
      "  typical chunks: (20,50,722,258) for size (60,50,722,258)\n",
      "CPU times: user 12.8 s, sys: 1 s, total: 13.8 s\n",
      "Wall time: 3min 20s\n",
      "Analysing directory /home/c11-data/Test_aponte/fsturb/fsturb_m1_a2_4km_0a300j\n",
      "Found 3 segments\n",
      "Parameters detected in croco.in :\n",
      "  time step = 300.0 s\n",
      "Parameters detected in output.mpi :\n",
      "Opening datasets: grid / his / inst / surf / fsturb\n",
      "Grid size: (L ,M, N) = (258, 722, 50)\n",
      "- grid stored\n",
      "  location: /home/c11-data/Test_aponte/fsturb/fsturb_m1_a2_4km_0a300j/zarr/grid.zarr \n",
      "  size:     0.0 GB\n",
      "  typical chunks: (722,258) for size (722,258)\n",
      "- his stored\n",
      "  location: /home/c11-data/Test_aponte/fsturb/fsturb_m1_a2_4km_0a300j/zarr/his.zarr \n",
      "  size:     7.5 GB\n",
      "  typical chunks: (2,50,722,258) for size (15,50,722,258)\n",
      "- inst stored\n",
      "  location: /home/c11-data/Test_aponte/fsturb/fsturb_m1_a2_4km_0a300j/zarr/inst.zarr \n",
      "  size:     0.0 GB\n",
      "  typical chunks: (300,722) for size (300,722)\n",
      "- surf stored\n",
      "  location: /home/c11-data/Test_aponte/fsturb/fsturb_m1_a2_4km_0a300j/zarr/surf.zarr \n",
      "  size:     0.9 GB\n",
      "  typical chunks: (100,722,258) for size (300,722,258)\n",
      "- fsturb stored\n",
      "  location: /home/c11-data/Test_aponte/fsturb/fsturb_m1_a2_4km_0a300j/zarr/fsturb.zarr \n",
      "  size:     3.2 GB\n",
      "  typical chunks: (20,50,722,258) for size (60,50,722,258)\n",
      "CPU times: user 12.8 s, sys: 856 ms, total: 13.7 s\n",
      "Wall time: 3min 20s\n",
      "Analysing directory /home/c11-data/Test_aponte/fsturb/fsturb_m1_a3_4km_0a300j\n",
      "Found 3 segments\n",
      "Parameters detected in croco.in :\n",
      "  time step = 300.0 s\n",
      "Parameters detected in output.mpi :\n",
      "Opening datasets: grid / his / inst / surf / fsturb\n",
      "Grid size: (L ,M, N) = (258, 722, 50)\n",
      "- grid stored\n",
      "  location: /home/c11-data/Test_aponte/fsturb/fsturb_m1_a3_4km_0a300j/zarr/grid.zarr \n",
      "  size:     0.0 GB\n",
      "  typical chunks: (722,258) for size (722,258)\n",
      "- his stored\n",
      "  location: /home/c11-data/Test_aponte/fsturb/fsturb_m1_a3_4km_0a300j/zarr/his.zarr \n",
      "  size:     7.5 GB\n",
      "  typical chunks: (2,50,722,258) for size (15,50,722,258)\n",
      "- inst stored\n",
      "  location: /home/c11-data/Test_aponte/fsturb/fsturb_m1_a3_4km_0a300j/zarr/inst.zarr \n",
      "  size:     0.0 GB\n",
      "  typical chunks: (300,722) for size (300,722)\n",
      "- surf stored\n",
      "  location: /home/c11-data/Test_aponte/fsturb/fsturb_m1_a3_4km_0a300j/zarr/surf.zarr \n",
      "  size:     0.9 GB\n",
      "  typical chunks: (100,722,258) for size (300,722,258)\n",
      "- fsturb stored\n",
      "  location: /home/c11-data/Test_aponte/fsturb/fsturb_m1_a3_4km_0a300j/zarr/fsturb.zarr \n",
      "  size:     3.2 GB\n",
      "  typical chunks: (20,50,722,258) for size (60,50,722,258)\n",
      "CPU times: user 12.3 s, sys: 916 ms, total: 13.2 s\n",
      "Wall time: 3min 11s\n"
     ]
    }
   ],
   "source": [
    "for run in runs:\n",
    "    r = pp.Run(root_path+run, \n",
    "               outputs=['grid','his', 'inst', 'surf', 'fsturb'], \n",
    "               read_zarr=False,\n",
    "               verbose=1)\n",
    "    %time r.store_zarr(mode='w')"
   ]
  },
  {
   "cell_type": "code",
   "execution_count": 21,
   "metadata": {},
   "outputs": [
    {
     "name": "stderr",
     "output_type": "stream",
     "text": [
      "distributed.client - ERROR - Failed to reconnect to scheduler after 10.00 seconds, closing client\n",
      "_GatheringFuture exception was never retrieved\n",
      "future: <_GatheringFuture finished exception=CancelledError()>\n",
      "concurrent.futures._base.CancelledError\n"
     ]
    }
   ],
   "source": [
    "cluster.close()"
   ]
  },
  {
   "cell_type": "markdown",
   "metadata": {},
   "source": [
    "---\n",
    "\n",
    "## delete netcdf files\n",
    "\n",
    "Obviously you need to be sure of yourself to do this ..."
   ]
  },
  {
   "cell_type": "code",
   "execution_count": 10,
   "metadata": {},
   "outputs": [
    {
     "name": "stdout",
     "output_type": "stream",
     "text": [
      "/home/datawork-lops-osi/equinox/jetn/tmp/jet_cfg1_wp6_4km_0a1000j/t1/ave_00010101-00010410.nc deleted\n",
      "/home/datawork-lops-osi/equinox/jetn/tmp/jet_cfg1_wp6_4km_0a1000j/t2/ave_00010101-00010410.nc deleted\n",
      "/home/datawork-lops-osi/equinox/jetn/tmp/jet_cfg1_wp6_4km_0a1000j/t1/surf_00010101-00010219.nc deleted\n",
      "/home/datawork-lops-osi/equinox/jetn/tmp/jet_cfg1_wp6_4km_0a1000j/t1/surf_00010220-00010410.nc deleted\n",
      "/home/datawork-lops-osi/equinox/jetn/tmp/jet_cfg1_wp6_4km_0a1000j/t2/surf_00010101-00010219.nc deleted\n",
      "/home/datawork-lops-osi/equinox/jetn/tmp/jet_cfg1_wp6_4km_0a1000j/t2/surf_00010220-00010410.nc deleted\n",
      "/home/datawork-lops-osi/equinox/jetn/tmp/jet_cfg1_wp6_4km_0a1000j/t1/grid.nc deleted\n",
      "/home/datawork-lops-osi/equinox/jetn/tmp/jet_cfg1_wp6_4km_0a1000j/t2/grid.nc deleted\n",
      "/home/datawork-lops-osi/equinox/jetn/tmp/jet_cfg1_wp6_4km_0a1000j/t1/his_00010101-00010120.nc deleted\n",
      "/home/datawork-lops-osi/equinox/jetn/tmp/jet_cfg1_wp6_4km_0a1000j/t1/his_00010121-00010209.nc deleted\n",
      "/home/datawork-lops-osi/equinox/jetn/tmp/jet_cfg1_wp6_4km_0a1000j/t1/his_00010210-00010301.nc deleted\n",
      "/home/datawork-lops-osi/equinox/jetn/tmp/jet_cfg1_wp6_4km_0a1000j/t1/his_00010302-00010321.nc deleted\n",
      "/home/datawork-lops-osi/equinox/jetn/tmp/jet_cfg1_wp6_4km_0a1000j/t1/his_00010322-00010410.nc deleted\n",
      "/home/datawork-lops-osi/equinox/jetn/tmp/jet_cfg1_wp6_4km_0a1000j/t2/his_00010101-00010120.nc deleted\n",
      "/home/datawork-lops-osi/equinox/jetn/tmp/jet_cfg1_wp6_4km_0a1000j/t2/his_00010121-00010209.nc deleted\n",
      "/home/datawork-lops-osi/equinox/jetn/tmp/jet_cfg1_wp6_4km_0a1000j/t2/his_00010210-00010301.nc deleted\n",
      "/home/datawork-lops-osi/equinox/jetn/tmp/jet_cfg1_wp6_4km_0a1000j/t2/his_00010302-00010321.nc deleted\n",
      "/home/datawork-lops-osi/equinox/jetn/tmp/jet_cfg1_wp6_4km_0a1000j/t2/his_00010322-00010410.nc deleted\n"
     ]
    }
   ],
   "source": [
    "r.delete_nc()"
   ]
  },
  {
   "cell_type": "markdown",
   "metadata": {},
   "source": [
    "---"
   ]
  },
  {
   "cell_type": "code",
   "execution_count": 15,
   "metadata": {},
   "outputs": [
    {
     "name": "stderr",
     "output_type": "stream",
     "text": [
      "distributed.client - ERROR - Failed to reconnect to scheduler after 10.00 seconds, closing client\n",
      "_GatheringFuture exception was never retrieved\n",
      "future: <_GatheringFuture finished exception=CancelledError()>\n",
      "concurrent.futures._base.CancelledError\n"
     ]
    }
   ],
   "source": [
    "cluster.close()"
   ]
  },
  {
   "cell_type": "code",
   "execution_count": null,
   "metadata": {},
   "outputs": [],
   "source": []
  }
 ],
 "metadata": {
  "kernelspec": {
   "display_name": "Python 3",
   "language": "python",
   "name": "python3"
  },
  "language_info": {
   "codemirror_mode": {
    "name": "ipython",
    "version": 3
   },
   "file_extension": ".py",
   "mimetype": "text/x-python",
   "name": "python",
   "nbconvert_exporter": "python",
   "pygments_lexer": "ipython3",
   "version": "3.7.6"
  }
 },
 "nbformat": 4,
 "nbformat_minor": 4
}
