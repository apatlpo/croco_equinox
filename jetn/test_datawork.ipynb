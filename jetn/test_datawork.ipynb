{
 "cells": [
  {
   "cell_type": "markdown",
   "metadata": {},
   "source": [
    "# convert data to zarr format"
   ]
  },
  {
   "cell_type": "code",
   "execution_count": 1,
   "metadata": {},
   "outputs": [],
   "source": [
    "import itertools\n",
    "\n",
    "%matplotlib inline\n",
    "from matplotlib import pyplot as plt\n",
    "\n",
    "import crocosi.postp as pp"
   ]
  },
  {
   "cell_type": "code",
   "execution_count": 2,
   "metadata": {},
   "outputs": [],
   "source": [
    "from dask.distributed import Client, LocalCluster\n",
    "#\n",
    "#cluster = LocalCluster()\n",
    "#\n",
    "from dask_jobqueue import PBSCluster\n",
    "# get processes with large amount of memory\n",
    "cluster = PBSCluster(processes=8, cores=16,\n",
    "                     walltime='04:00:00')\n",
    "w = cluster.scale(jobs=5)\n",
    "#\n",
    "client = Client(cluster)"
   ]
  },
  {
   "cell_type": "code",
   "execution_count": 10,
   "metadata": {},
   "outputs": [
    {
     "data": {
      "text/html": [
       "<table style=\"border: 2px solid white;\">\n",
       "<tr>\n",
       "<td style=\"vertical-align: top; border: 0px solid white\">\n",
       "<h3 style=\"text-align: left;\">Client</h3>\n",
       "<ul style=\"text-align: left; list-style: none; margin: 0; padding: 0;\">\n",
       "  <li><b>Scheduler: </b>tcp://10.148.1.54:34816</li>\n",
       "  <li><b>Dashboard: </b><a href='http://10.148.1.54:8787/status' target='_blank'>http://10.148.1.54:8787/status</a>\n",
       "</ul>\n",
       "</td>\n",
       "<td style=\"vertical-align: top; border: 0px solid white\">\n",
       "<h3 style=\"text-align: left;\">Cluster</h3>\n",
       "<ul style=\"text-align: left; list-style:none; margin: 0; padding: 0;\">\n",
       "  <li><b>Workers: </b>40</li>\n",
       "  <li><b>Cores: </b>80</li>\n",
       "  <li><b>Memory: </b>600.00 GB</li>\n",
       "</ul>\n",
       "</td>\n",
       "</tr>\n",
       "</table>"
      ],
      "text/plain": [
       "<Client: 'tcp://10.148.1.54:34816' processes=40 threads=80, memory=600.00 GB>"
      ]
     },
     "execution_count": 10,
     "metadata": {},
     "output_type": "execute_result"
    }
   ],
   "source": [
    "client"
   ]
  },
  {
   "cell_type": "markdown",
   "metadata": {},
   "source": [
    "---\n",
    "\n",
    "## load data"
   ]
  },
  {
   "cell_type": "code",
   "execution_count": 4,
   "metadata": {},
   "outputs": [],
   "source": [
    "# pour test sur datawork\n",
    "#root_path = '/home/c11-data/Test_aponte/fsturb/'\n",
    "root_path = '/home/datawork-lops-osi/equinox/jetn/'\n",
    "run = 'jet_cfg1_wp75_4km_1500a2000j_floats_lev50'"
   ]
  },
  {
   "cell_type": "code",
   "execution_count": 9,
   "metadata": {},
   "outputs": [
    {
     "name": "stdout",
     "output_type": "stream",
     "text": [
      "Analysing directory /home/c11-data/Test_aponte/fsturb/fsturb_m0_b0_4km_0a1000j\n",
      "Found 10 segments\n",
      "Search for parameters in croco.in :\n",
      "Parameters detected in output.mpi :\n",
      "Opening datasets: grid / his / inst / surf / fsturb\n",
      "Grid size: (L ,M, N) = (258, 722, 50)\n",
      "CPU times: user 34 s, sys: 404 ms, total: 34.4 s\n",
      "Wall time: 42 s\n"
     ]
    }
   ],
   "source": [
    "%time r = pp.Run(root_path+run, \\\n",
    "                 prefix = 'suff_', \\\n",
    "                 outputs=['grid','his', 'inst', 'surf', 'sta1', 'sta2', 'swath'],  \\\n",
    "                 read_zarr=False, \\\n",
    "                 open_kwargs={'parallel': True}, \\\n",
    "                 verbose=1)"
   ]
  },
  {
   "cell_type": "code",
   "execution_count": null,
   "metadata": {},
   "outputs": [],
   "source": [
    "%time r = pp.Run(root_path+run, \\\n",
    "                 prefix = 'suff_', \\\n",
    "                 outputs=['grid','his', 'inst', 'surf', 'sta1', 'sta2', 'swath'],  \\\n",
    "                 read_zarr=False, \\\n",
    "                 open_kwargs={'parallel': True}, \\\n",
    "                 verbose=1)"
   ]
  },
  {
   "cell_type": "markdown",
   "metadata": {},
   "source": [
    "---\n",
    "## rewrite zarr archives"
   ]
  },
  {
   "cell_type": "code",
   "execution_count": null,
   "metadata": {},
   "outputs": [],
   "source": [
    "%time r.store_zarr(mode='w')"
   ]
  },
  {
   "cell_type": "markdown",
   "metadata": {},
   "source": [
    "---\n",
    "## reload data and compute a mean"
   ]
  },
  {
   "cell_type": "code",
   "execution_count": 10,
   "metadata": {},
   "outputs": [
    {
     "name": "stdout",
     "output_type": "stream",
     "text": [
      "/home/datawork-lops-osi/equinox/jetn/tmp/jet_cfg1_wp6_4km_0a1000j/t1/ave_00010101-00010410.nc deleted\n",
      "/home/datawork-lops-osi/equinox/jetn/tmp/jet_cfg1_wp6_4km_0a1000j/t2/ave_00010101-00010410.nc deleted\n",
      "/home/datawork-lops-osi/equinox/jetn/tmp/jet_cfg1_wp6_4km_0a1000j/t1/surf_00010101-00010219.nc deleted\n",
      "/home/datawork-lops-osi/equinox/jetn/tmp/jet_cfg1_wp6_4km_0a1000j/t1/surf_00010220-00010410.nc deleted\n",
      "/home/datawork-lops-osi/equinox/jetn/tmp/jet_cfg1_wp6_4km_0a1000j/t2/surf_00010101-00010219.nc deleted\n",
      "/home/datawork-lops-osi/equinox/jetn/tmp/jet_cfg1_wp6_4km_0a1000j/t2/surf_00010220-00010410.nc deleted\n",
      "/home/datawork-lops-osi/equinox/jetn/tmp/jet_cfg1_wp6_4km_0a1000j/t1/grid.nc deleted\n",
      "/home/datawork-lops-osi/equinox/jetn/tmp/jet_cfg1_wp6_4km_0a1000j/t2/grid.nc deleted\n",
      "/home/datawork-lops-osi/equinox/jetn/tmp/jet_cfg1_wp6_4km_0a1000j/t1/his_00010101-00010120.nc deleted\n",
      "/home/datawork-lops-osi/equinox/jetn/tmp/jet_cfg1_wp6_4km_0a1000j/t1/his_00010121-00010209.nc deleted\n",
      "/home/datawork-lops-osi/equinox/jetn/tmp/jet_cfg1_wp6_4km_0a1000j/t1/his_00010210-00010301.nc deleted\n",
      "/home/datawork-lops-osi/equinox/jetn/tmp/jet_cfg1_wp6_4km_0a1000j/t1/his_00010302-00010321.nc deleted\n",
      "/home/datawork-lops-osi/equinox/jetn/tmp/jet_cfg1_wp6_4km_0a1000j/t1/his_00010322-00010410.nc deleted\n",
      "/home/datawork-lops-osi/equinox/jetn/tmp/jet_cfg1_wp6_4km_0a1000j/t2/his_00010101-00010120.nc deleted\n",
      "/home/datawork-lops-osi/equinox/jetn/tmp/jet_cfg1_wp6_4km_0a1000j/t2/his_00010121-00010209.nc deleted\n",
      "/home/datawork-lops-osi/equinox/jetn/tmp/jet_cfg1_wp6_4km_0a1000j/t2/his_00010210-00010301.nc deleted\n",
      "/home/datawork-lops-osi/equinox/jetn/tmp/jet_cfg1_wp6_4km_0a1000j/t2/his_00010302-00010321.nc deleted\n",
      "/home/datawork-lops-osi/equinox/jetn/tmp/jet_cfg1_wp6_4km_0a1000j/t2/his_00010322-00010410.nc deleted\n"
     ]
    }
   ],
   "source": [
    "%time r = pp.Run(root_path+run, \\\n",
    "                 outputs=['surf'],  \\\n",
    "                 verbose=1)"
   ]
  },
  {
   "cell_type": "markdown",
   "metadata": {},
   "source": [
    "---"
   ]
  },
  {
   "cell_type": "code",
   "execution_count": 13,
   "metadata": {},
   "outputs": [
    {
     "name": "stderr",
     "output_type": "stream",
     "text": [
      "distributed.client - ERROR - Failed to reconnect to scheduler after 10.00 seconds, closing client\n",
      "_GatheringFuture exception was never retrieved\n",
      "future: <_GatheringFuture finished exception=CancelledError()>\n",
      "concurrent.futures._base.CancelledError\n"
     ]
    }
   ],
   "source": [
    "cluster.close()"
   ]
  },
  {
   "cell_type": "code",
   "execution_count": null,
   "metadata": {},
   "outputs": [],
   "source": []
  }
 ],
 "metadata": {
  "kernelspec": {
   "display_name": "Python 3",
   "language": "python",
   "name": "python3"
  },
  "language_info": {
   "codemirror_mode": {
    "name": "ipython",
    "version": 3
   },
   "file_extension": ".py",
   "mimetype": "text/x-python",
   "name": "python",
   "nbconvert_exporter": "python",
   "pygments_lexer": "ipython3",
   "version": "3.7.6"
  }
 },
 "nbformat": 4,
 "nbformat_minor": 4
}
