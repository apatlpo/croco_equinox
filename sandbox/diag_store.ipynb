{
 "cells": [
  {
   "cell_type": "markdown",
   "metadata": {},
   "source": [
    "# Internal Tide and BALanced Turbulence configuration (ITBALT), overview\n",
    "\n",
    "see link to [forcing description](https://github.com/slgentil/croco/blob/master/configs/itbalt/readme.ipynb)\n",
    "\n",
    "Diagnostics to store:\n",
    "\n",
    "- surface: \n",
    "    - time and x averaged KE(y)\n",
    "    - time and x averaged relative enstrophy (y)\n",
    "    - time averaged horizontal wavenumber spectra\n",
    "\n",
    "- with depth information:\n",
    "    - time and x averaged KE(z, y)\n",
    "    - time and x averaged relative enstrophy (z, y)\n",
    "\n",
    "- time series of x and y averaged modal KE"
   ]
  },
  {
   "cell_type": "code",
   "execution_count": 1,
   "metadata": {},
   "outputs": [],
   "source": [
    "from glob import glob\n",
    "import itertools\n",
    "\n",
    "%matplotlib inline\n",
    "import matplotlib as mpl\n",
    "from matplotlib import pyplot as plt\n",
    "\n",
    "import numpy as np\n",
    "import xarray as xr\n",
    "\n",
    "import xrft\n",
    "\n",
    "import crocosi.postp as pp\n",
    "import crocosi.gridop as gop\n",
    "import crocosi.vmodes as vmd"
   ]
  },
  {
   "cell_type": "code",
   "execution_count": 2,
   "metadata": {},
   "outputs": [
    {
     "data": {
      "text/html": [
       "<table style=\"border: 2px solid white;\">\n",
       "<tr>\n",
       "<td style=\"vertical-align: top; border: 0px solid white\">\n",
       "<h3 style=\"text-align: left;\">Client</h3>\n",
       "<ul style=\"text-align: left; list-style: none; margin: 0; padding: 0;\">\n",
       "  <li><b>Scheduler: </b>tcp://10.148.1.91:54443</li>\n",
       "  <li><b>Dashboard: </b><a href='http://10.148.1.91:8787/status' target='_blank'>http://10.148.1.91:8787/status</a>\n",
       "</ul>\n",
       "</td>\n",
       "<td style=\"vertical-align: top; border: 0px solid white\">\n",
       "<h3 style=\"text-align: left;\">Cluster</h3>\n",
       "<ul style=\"text-align: left; list-style:none; margin: 0; padding: 0;\">\n",
       "  <li><b>Workers: </b>0</li>\n",
       "  <li><b>Cores: </b>0</li>\n",
       "  <li><b>Memory: </b>0 B</li>\n",
       "</ul>\n",
       "</td>\n",
       "</tr>\n",
       "</table>"
      ],
      "text/plain": [
       "<Client: 'tcp://10.148.1.91:54443' processes=0 threads=0, memory=0 B>"
      ]
     },
     "execution_count": 2,
     "metadata": {},
     "output_type": "execute_result"
    }
   ],
   "source": [
    "from dask.distributed import Client, LocalCluster\n",
    "#\n",
    "#cluster = LocalCluster()\n",
    "#\n",
    "from dask_jobqueue import PBSCluster\n",
    "cluster = PBSCluster(processes=8, cores=16)\n",
    "w = cluster.scale(jobs=2)\n",
    "#\n",
    "client = Client(cluster)\n",
    "client"
   ]
  },
  {
   "cell_type": "markdown",
   "metadata": {},
   "source": [
    "---\n",
    "## diagnostic flags and runs"
   ]
  },
  {
   "cell_type": "code",
   "execution_count": 3,
   "metadata": {},
   "outputs": [
    {
     "name": "stdout",
     "output_type": "stream",
     "text": [
      "fsturb_4km_m1_Nexp_0a1000j\n"
     ]
    }
   ],
   "source": [
    "# flags\n",
    "flags = {'surface': True, 'spectra': True, 'depth': True, 'vmodes': True}\n",
    "overwrite=True\n",
    "\n",
    "# paths\n",
    "root_path = '/home/c11-data/Test_aponte/fsturb/'\n",
    "\n",
    "# runs\n",
    "M = [0,1]\n",
    "A = list(range(4))\n",
    "runs = ['fsturb_m{}_a{}_4km_0a300j'.format(m,a) for m, a in itertools.product(M, A)]\n",
    "\n",
    "runs = ['fsturb_4km_m1_Nexp_0a1000j']\n",
    "\n",
    "_ = [print(r) for r in runs]"
   ]
  },
  {
   "cell_type": "markdown",
   "metadata": {},
   "source": [
    "## Load data"
   ]
  },
  {
   "cell_type": "code",
   "execution_count": 4,
   "metadata": {},
   "outputs": [],
   "source": [
    "R = [pp.Run(root_path+run, outputs=['surf', 'his'], \n",
    "           grid_periodicity=True,\n",
    "           ) for run in runs\n",
    "    ]\n",
    "\n",
    "for r in R:\n",
    "    r['surf'] = r['surf'].assign_coords(time=r['surf'].time_instant.chunk({'time':None}))\n",
    "    r['his'] = r['his'].assign_coords(time=r['his'].time_counter.chunk({'time':None}))\n",
    "    #r['surf'] = r['surf'].rename({'time_instant': 'time'})\n",
    "    #r['his'] = r['his'].rename({'time_counter': 'time'})"
   ]
  },
  {
   "cell_type": "code",
   "execution_count": 5,
   "metadata": {},
   "outputs": [],
   "source": [
    "# utils\n",
    "def get_vorticity(u, v, r):\n",
    "    xi = ((-r.xgrid.derivative(u, 'eta') + r.xgrid.derivative(v, 'xi'))\n",
    "            .rename('vorticity')\n",
    "           )\n",
    "    return xi"
   ]
  },
  {
   "cell_type": "markdown",
   "metadata": {},
   "source": [
    "---\n",
    "\n",
    "## surface statistics\n",
    "\n",
    "Time and zonal average the following fields\n",
    "- u, v, relative vorticity (xi), sea level (ssh)\n",
    "- kinetic energy, relative enstrophy, squared sea level"
   ]
  },
  {
   "cell_type": "code",
   "execution_count": 6,
   "metadata": {},
   "outputs": [
    {
     "name": "stdout",
     "output_type": "stream",
     "text": [
      "data stored in /home/c11-data/Test_aponte/fsturb/fsturb_4km_m1_Nexp_0a1000j/diagnostics/surface.zarr\n"
     ]
    }
   ],
   "source": [
    "if flags['surface']:\n",
    "    \n",
    "    for r in R:\n",
    "        \n",
    "        u = r['surf']['u']\n",
    "        v = r['surf']['v']\n",
    "        xi = get_vorticity(u, v, r)\n",
    "        ssh = r['surf']['ssh']\n",
    "        \n",
    "        ke = (.5*(r.x2rho(u).chunk({'x_rho': None})**2\n",
    "                 +r.x2rho(v).chunk({'y_rho': None})**2)\n",
    "             ).rename('kinetic_energy')\n",
    "        ens = (.5*xi**2).rename('enstrophy')\n",
    "        ssh2 = (ssh**2).rename('ssh2')\n",
    "\n",
    "        ds = (xr.merge([u,v,xi,ssh,\n",
    "                        ke,ens,ssh2])\n",
    "              .mean(dim=['x_rho','x_u','time'])\n",
    "             )\n",
    "\n",
    "        r.store_diagnostic('surface', ds, overwrite=overwrite)\n",
    "\n",
    "#ds = r.load_diagnostic('surface')"
   ]
  },
  {
   "cell_type": "markdown",
   "metadata": {},
   "source": [
    "---\n",
    "\n",
    "## horizontal wavenumber spectra\n",
    "\n",
    "Of the following variables:\n",
    "- u, v, relative vorticity (xi)\n",
    "- Eu+Ev"
   ]
  },
  {
   "cell_type": "code",
   "execution_count": 7,
   "metadata": {},
   "outputs": [],
   "source": [
    "def get_spectra(v, name='E', mean=True, persist=True):\n",
    "    \"\"\" Compute (2D/isotropic) spectra of variable v\n",
    "    \"\"\"\n",
    "\n",
    "    # interp and rechunk:\n",
    "    v = r.x2rho(v).chunk({'x_rho': None, 'y_rho': None})\n",
    "    #\n",
    "    Ev = (xrft.power_spectrum(v,\n",
    "                             dim=['x_rho','y_rho'],\n",
    "                             detrend='constant', \n",
    "                             window=True)\n",
    "          .rename(name)\n",
    "         )\n",
    "    \n",
    "    # isotropize\n",
    "    Ev_iso = (xrft.isotropize(Ev, ['freq_x_rho', 'freq_y_rho'])\n",
    "              .rename(name+'_iso')\n",
    "             )\n",
    "    #\n",
    "    if mean:\n",
    "        Ev = Ev.mean('time')\n",
    "        Ev_iso = Ev_iso.mean('time')\n",
    "    #\n",
    "    if persist:\n",
    "        Ev = Ev.persist()\n",
    "        Ev_iso = Ev_iso.persist()\n",
    "    #\n",
    "    return Ev, Ev_iso"
   ]
  },
  {
   "cell_type": "code",
   "execution_count": 8,
   "metadata": {},
   "outputs": [
    {
     "name": "stdout",
     "output_type": "stream",
     "text": [
      "data stored in /home/c11-data/Test_aponte/fsturb/fsturb_4km_m1_Nexp_0a1000j/diagnostics/spectra.zarr\n"
     ]
    }
   ],
   "source": [
    "if flags['spectra']:\n",
    "\n",
    "    for r in R:\n",
    "\n",
    "        u, v = r['surf']['u'], r['surf']['v']\n",
    "        xi = get_vorticity(u, v, r)\n",
    "\n",
    "        Eu, Eu_iso = get_spectra(u, name='Eu')\n",
    "        Ev, Ev_iso = get_spectra(v, name='Ev')\n",
    "        Euv = .5*(Eu + Ev).rename('Euv')\n",
    "        Euv_iso = .5*(Eu_iso + Ev_iso).rename('Euv_iso')\n",
    "\n",
    "        Exi, Exi_iso = get_spectra(xi, name='Exi')\n",
    "\n",
    "        ds = xr.merge([Eu,Eu_iso,\n",
    "                       Ev,Ev_iso,\n",
    "                       Euv, Euv_iso,\n",
    "                       Exi, Exi_iso])\n",
    "        \n",
    "        r.store_diagnostic('spectra', ds, overwrite=overwrite)\n",
    "        \n",
    "#ds = r.load_diagnostic('spectra')"
   ]
  },
  {
   "cell_type": "markdown",
   "metadata": {},
   "source": [
    "---\n",
    "\n",
    "## depth dependent statistics\n",
    "\n",
    "Zonal and temporal average of:\n",
    "- u, v, relative vorticity\n",
    "- kinetic energy, relative enstrophy\n",
    "- stratification\n"
   ]
  },
  {
   "cell_type": "code",
   "execution_count": 6,
   "metadata": {},
   "outputs": [
    {
     "name": "stdout",
     "output_type": "stream",
     "text": [
      "data stored in /home/c11-data/Test_aponte/fsturb/fsturb_4km_m1_Nexp_0a1000j/diagnostics/depth.zarr\n"
     ]
    }
   ],
   "source": [
    "if flags['depth']:\n",
    "\n",
    "    for r in R:\n",
    "\n",
    "        ds = r['his']\n",
    "        \n",
    "        # should in principle interpolate on fixed levels\n",
    "        u = ds['u_t_dirac'].rename('u') \n",
    "        v = ds['v_t_dirac'].rename('v')\n",
    "        \n",
    "        xi = get_vorticity(u, v, r)\n",
    "        \n",
    "        rho = ds['T_t_dirac'].rename('rho')\n",
    "        ssh = ds['ssh_t_dirac'].rename('ssh') \n",
    "        \n",
    "        z_r = r.get_z(ssh)\n",
    "        z_w = r.get_z(ssh, vgrid='w')\n",
    "\n",
    "        p = r.get_p(rho, z_w, zr=z_r)\n",
    "\n",
    "        ke = (.5*(r.x2rho(u).chunk({'x_rho': None})**2\n",
    "                 +r.x2rho(v).chunk({'y_rho': None})**2)\n",
    "             ).rename('kinetic_energy')\n",
    "        ens = (.5*xi**2).rename('enstrophy')\n",
    "        \n",
    "        ds_diag = (xr.merge([u, v, xi, rho,\n",
    "                             ssh, z_r, z_w,\n",
    "                             p,\n",
    "                             ke, ens,\n",
    "                            ])\n",
    "                   .mean(dim=['x_rho','x_u','time'])\n",
    "                   .chunk({'s_rho': -1, 's_w':-1})\n",
    "                  ).persist()\n",
    "        \n",
    "        # add mean stratification\n",
    "        ds_diag['N2'] = (r.get_N2(ds_diag['rho'], ds_diag['z_rho'])\n",
    "                         .chunk({'s_w':-1})\n",
    "                        )\n",
    "\n",
    "        r.store_diagnostic('depth', ds_diag, overwrite=overwrite)\n",
    "\n",
    "#ds = r.load_diagnostic('depth')"
   ]
  },
  {
   "cell_type": "markdown",
   "metadata": {},
   "source": [
    "---\n",
    "\n",
    "## vertical modes\n",
    "\n",
    "Compute and store vertical modes.\n",
    "\n",
    "- project u, v\n",
    "\n",
    "We do not project pressure nor density yet"
   ]
  },
  {
   "cell_type": "code",
   "execution_count": 7,
   "metadata": {},
   "outputs": [
    {
     "name": "stdout",
     "output_type": "stream",
     "text": [
      "Store vertical modes in /home/c11-data/Test_aponte/fsturb/fsturb_4km_m1_Nexp_0a1000j/diagnostics/vmodes.zarr\n",
      "data stored in /home/c11-data/Test_aponte/fsturb/fsturb_4km_m1_Nexp_0a1000j/diagnostics/vmodes_un.zarr\n",
      "data stored in /home/c11-data/Test_aponte/fsturb/fsturb_4km_m1_Nexp_0a1000j/diagnostics/vmodes_vn.zarr\n"
     ]
    }
   ],
   "source": [
    "nmodes = 10\n",
    "\n",
    "if flags['vmodes']:\n",
    "\n",
    "    for r in R:\n",
    "\n",
    "        # compute vertical modes from output stratification\n",
    "        ds_depth = r.load_diagnostic('depth')\n",
    "        ds_depth = ds_depth.mean(['y_rho','y_v'])\n",
    "        vmodes = vmd.Vmodes(r['xgrid'],\n",
    "                            ds_depth.z_rho, ds_depth.z_w,\n",
    "                            ds_depth.N2,\n",
    "                            nmodes,\n",
    "                            persist=True)\n",
    "        r.store_vmodes('vmodes', vmodes, mode='w')\n",
    "        #vmodes = r.load_vmodes(vmodes_name, persist=True)\n",
    "\n",
    "        # project\n",
    "        ds = r['his']\n",
    "\n",
    "        Nck = 100 # horizontal chunk size\n",
    "        chunks = {'x_rho': Nck, 'y_rho': Nck}\n",
    "        chunks_u = {'x_u': Nck, 'y_rho': Nck}\n",
    "        chunks_v = {'x_rho': Nck, 'y_v': Nck}\n",
    "\n",
    "        u = ds['u_t_dirac'].chunk(chunks_u).rename('u') \n",
    "        v = ds['v_t_dirac'].chunk(chunks_v).rename('v')\n",
    "        #xi = r.x2rho(get_vorticity(u, v, r)).chunk(chunks)\n",
    "\n",
    "        ssh = ds['ssh_t_dirac'].rename('ssh') \n",
    "        z_r = r.get_z(zeta=ssh).chunk(chunks)\n",
    "        # passing z_u and z_v would not work with horizontally varying modes\n",
    "        z_u = r.get_z(zeta=ssh, hgrid='u').chunk(chunks_u)\n",
    "        z_v = r.get_z(zeta=ssh, hgrid='v').chunk(chunks_v)\n",
    "        z_w = r.get_z(zeta=ssh, vgrid='w').chunk(chunks)\n",
    "\n",
    "        un = vmodes.project(u, \"p\", z=z_u).rename('un')\n",
    "        r.store_diagnostic('vmodes_un', un, overwrite=overwrite)\n",
    "\n",
    "        vn = vmodes.project(v, \"p\", z=z_v).rename('vn')\n",
    "        r.store_diagnostic('vmodes_vn', vn, overwrite=overwrite)"
   ]
  },
  {
   "cell_type": "code",
   "execution_count": null,
   "metadata": {},
   "outputs": [],
   "source": [
    "# store vmodes statistics\n",
    "# ..."
   ]
  },
  {
   "cell_type": "markdown",
   "metadata": {},
   "source": [
    "---"
   ]
  },
  {
   "cell_type": "code",
   "execution_count": 8,
   "metadata": {},
   "outputs": [],
   "source": [
    "cluster.close()"
   ]
  },
  {
   "cell_type": "code",
   "execution_count": null,
   "metadata": {},
   "outputs": [],
   "source": []
  }
 ],
 "metadata": {
  "kernelspec": {
   "display_name": "Python 3",
   "language": "python",
   "name": "python3"
  },
  "language_info": {
   "codemirror_mode": {
    "name": "ipython",
    "version": 3
   },
   "file_extension": ".py",
   "mimetype": "text/x-python",
   "name": "python",
   "nbconvert_exporter": "python",
   "pygments_lexer": "ipython3",
   "version": "3.7.6"
  }
 },
 "nbformat": 4,
 "nbformat_minor": 4
}
